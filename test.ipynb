{
 "cells": [
  {
   "cell_type": "code",
   "execution_count": null,
   "id": "aa9009cf",
   "metadata": {},
   "outputs": [],
   "source": [
    "#Archivo de prueba\n",
    "#Esto es un archivo de prueba nuevamente"
   ]
  }
 ],
 "metadata": {
  "language_info": {
   "name": "python"
  }
 },
 "nbformat": 4,
 "nbformat_minor": 5
}
