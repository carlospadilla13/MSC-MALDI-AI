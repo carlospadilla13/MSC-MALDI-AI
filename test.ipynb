{
 "cells": [
  {
   "cell_type": "code",
   "execution_count": null,
   "id": "aa9009cf",
   "metadata": {},
   "outputs": [],
   "source": [
    "#Archivo de prueba"
   ]
  }
 ],
 "metadata": {
  "language_info": {
   "name": "python"
  }
 },
 "nbformat": 4,
 "nbformat_minor": 5
}
