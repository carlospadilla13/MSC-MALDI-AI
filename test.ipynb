{
 "cells": [
  {
   "cell_type": "code",
   "execution_count": null,
   "id": "aa9009cf",
   "metadata": {},
   "outputs": [],
   "source": [
    "#Archivo de prueba\n",
    "#Esto es un archivo de prueba nuevamente"
   ]
  },
  {
   "cell_type": "code",
   "execution_count": null,
   "id": "abbb37aa",
   "metadata": {},
   "outputs": [],
   "source": [
    "import pandas as pd\n",
    "\n",
    "df = pd.read_csv('ruta/al/archivo.csv')\n",
    "print(df.head())"
   ]
  },
  {
   "cell_type": "code",
   "execution_count": null,
   "id": "ee7feb3f",
   "metadata": {},
   "outputs": [],
   "source": [
    "# Mostrar los nombres de las columnas del DataFrame\n",
    "print(df.columns.tolist())"
   ]
  }
 ],
 "metadata": {
  "language_info": {
   "name": "python"
  }
 },
 "nbformat": 4,
 "nbformat_minor": 5
}
